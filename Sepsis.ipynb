{
  "nbformat": 4,
  "nbformat_minor": 0,
  "metadata": {
    "colab": {
      "name": "FinalProjectLab.ipynb",
      "provenance": [],
      "collapsed_sections": []
    },
    "kernelspec": {
      "name": "python3",
      "display_name": "Python 3"
    }
  },
  "cells": [
    {
      "cell_type": "code",
      "metadata": {
        "id": "4AY513rI5Lzv",
        "colab_type": "code",
        "colab": {}
      },
      "source": [
        "import pandas as pd\n",
        "import numpy as np\n",
        "import sklearn as skl\n",
        "import sklearn.preprocessing as pre\n",
        "import matplotlib.pyplot as plt\n",
        "import statsmodels as sm\n",
        "import sklearn.linear_model as lm\n",
        "from sklearn.metrics import roc_auc_score\n",
        "import sklearn.metrics\n",
        "import sklearn.model_selection\n",
        "from datetime import datetime\n",
        "\n",
        "training = pd.read_csv('glm.training.data.csv')\n",
        "test = pd.read_csv('glm.test.data.csv')\n",
        "test_times = pd.read_csv('timestamps.test.csv')\n",
        "onset = pd.read_csv('test.onsets.csv')"
      ],
      "execution_count": 0,
      "outputs": []
    },
    {
      "cell_type": "markdown",
      "metadata": {
        "id": "Wc0t8uzjyY_P",
        "colab_type": "text"
      },
      "source": [
        "##Process data"
      ]
    },
    {
      "cell_type": "code",
      "metadata": {
        "id": "9HDCDk1P5mPk",
        "colab_type": "code",
        "outputId": "34fe622b-ba12-40a2-8c7d-897082232635",
        "colab": {
          "base_uri": "https://localhost:8080/",
          "height": 136
        }
      },
      "source": [
        "# Training data preprocessing\n",
        "training_y = np.asarray(training[['y']])\n",
        "training_x = training.drop(['y', 'Unnamed: 0'], axis = 1)\n",
        "training_x_norm = pre.normalize(training_x)\n",
        "\n",
        "# Testing data preprocessing\n",
        "test_y = np.asarray(test[['y']])\n",
        "test_x = test.drop(['y', 'Unnamed: 0', 'patient'], axis = 1)\n",
        "test_x_norm = pre.normalize(test_x)\n",
        "\n",
        "# Patient and temporal data processing\n",
        "patient = np.asarray(test[['patient']])\n",
        "test_time = np.asarray(test_times.drop(['Unnamed: 0'], axis = 1))\n",
        "\n",
        "print(training_x.head(4)) "
      ],
      "execution_count": 0,
      "outputs": [
        {
          "output_type": "stream",
          "text": [
            "        x.hr       x.sbp      x.dbp  ...  x.liver.sofa  x.coag.sofa  x.kidney.sofa\n",
            "0  87.252031  119.411786  61.039926  ...             0            0              0\n",
            "1  87.252031  119.411786  61.039926  ...             0            0              0\n",
            "2  87.252031  119.411786  61.039926  ...             0            0              0\n",
            "3  87.252031  119.411786  61.039926  ...             0            0              0\n",
            "\n",
            "[4 rows x 28 columns]\n"
          ],
          "name": "stdout"
        }
      ]
    },
    {
      "cell_type": "code",
      "metadata": {
        "id": "0PajuWKY-bOf",
        "colab_type": "code",
        "colab": {}
      },
      "source": [
        "# Run with default penalty (C = 1) and see what the coefficients look like\n",
        "train_fit = lm.LogisticRegression(penalty = 'l1', solver = 'saga', max_iter=500).fit(training_x_norm, np.asarray(training_y).ravel())\n",
        "# We can see from this we need to find a better penalty to avoid overfitting, as\n",
        "# all 28 features are weighted. \n",
        "print(train_fit.coef_)"
      ],
      "execution_count": 0,
      "outputs": []
    },
    {
      "cell_type": "markdown",
      "metadata": {
        "id": "YA2ieTBFzFNm",
        "colab_type": "text"
      },
      "source": [
        "#Now we shift to using stochastic gradient decent to optimize run time. "
      ]
    },
    {
      "cell_type": "markdown",
      "metadata": {
        "id": "myNwF75dLI9K",
        "colab_type": "text"
      },
      "source": [
        "##Use a subset of the data to predict an optimal range of penalties"
      ]
    },
    {
      "cell_type": "code",
      "metadata": {
        "id": "6BOr74qqa6yQ",
        "colab_type": "code",
        "outputId": "f9da7798-a8fd-49a3-b28b-817258e49ce9",
        "colab": {
          "base_uri": "https://localhost:8080/",
          "height": 119
        }
      },
      "source": [
        "# Shuffle the data so we can sample it with better confidence\n",
        "training_x_norm, training_y = skl.utils.shuffle(training_x_norm, training_y)\n",
        "training_y = np.asarray(training_y)\n",
        "training_fraction = 0.2\n",
        "\n",
        "# Create a subset of the data so we can test penalty values.\n",
        "sample = skl.utils.random.sample_without_replacement(training_x_norm.shape[0], int(len(training_x_norm) * training_fraction))\n",
        "\n",
        "smol_train_x = training_x_norm[sample]\n",
        "smol_train_y = training_y[sample]\n",
        "smol_train_y = np.asarray(smol_train_y)\n",
        "\n",
        "# Note that because we are only taking a portion of the sample, we have to scale our\n",
        "# lambda value by that same proportion. \n",
        "lr = lm.SGDClassifier(loss='log', penalty = 'l1', alpha = 0.000005)\n",
        "print(lr.fit(smol_train_x, smol_train_y.ravel()).coef_)\n",
        "\n",
        "# From this we can see that a ballpark optimal range for the full\n",
        "# data set should be from around 0.01 to 0.05 for logistic regression\n",
        "# or somewhere between 1e-07 and 1e-08 for SGD."
      ],
      "execution_count": 0,
      "outputs": [
        {
          "output_type": "stream",
          "text": [
            "[[   9.60541493  -15.57142825    1.38684366    2.16190206   20.13535595\n",
            "     0.            1.29268746    2.81280224    7.50090365  -96.19819548\n",
            "     1.88071459   -0.17269923   50.74083418  114.24873626    4.28401431\n",
            "    -1.76954314   12.02325541   -6.38016807   27.94865257    1.04909863\n",
            "    39.38080088   -0.92848931    0.70025515 -119.5554265    97.75569795\n",
            "     0.            0.          -25.27710541]]\n"
          ],
          "name": "stdout"
        }
      ]
    },
    {
      "cell_type": "markdown",
      "metadata": {
        "id": "DopuZN9gySCO",
        "colab_type": "text"
      },
      "source": [
        "##Find optimal penalty value"
      ]
    },
    {
      "cell_type": "code",
      "metadata": {
        "id": "98OzW-kyaY-6",
        "colab_type": "code",
        "colab": {}
      },
      "source": [
        "# Do cross validation with 10 folds and compute the scores on each iteration\n",
        "# save average scores among all 10 folds in a dict with the cooresponding alpha value\n",
        "score = {}\n",
        "count = 0\n",
        "for c in np.linspace(7.5e-07,9.5e-07, 10):\n",
        "  model = lm.SGDClassifier(loss='log', penalty= 'l1', alpha=c)\n",
        "  score[c] = np.mean(skl.model_selection.cross_val_score(model, training_x_norm, training_y.ravel(), cv = 10))\n",
        "  count += 1\n",
        "  print(count/10)"
      ],
      "execution_count": 0,
      "outputs": []
    },
    {
      "cell_type": "code",
      "metadata": {
        "id": "90Rej2bpg7w0",
        "colab_type": "code",
        "outputId": "90f91da3-7aa6-4d47-ab67-0c5356522f82",
        "colab": {
          "base_uri": "https://localhost:8080/",
          "height": 329
        }
      },
      "source": [
        "# Find the minimum score and use thos alpha value\n",
        "plt.plot(score.keys(), score.values())\n",
        "plt.title('Cross Validation Score vs Penalty')\n",
        "plt.xlabel('Alpha')\n",
        "plt.ylabel('Score')\n",
        "maxval = max(list(score.values()))\n",
        "alpha_best = list(score.keys())[list(score.values()).index(maxval)]\n",
        "print('Optimal alpha value:', alpha_best)\n",
        "plt.scatter(alpha_best, maxval, marker='X', c='red')"
      ],
      "execution_count": 0,
      "outputs": [
        {
          "output_type": "stream",
          "text": [
            "Optimal alpha value: 7.722222222222222e-07\n"
          ],
          "name": "stdout"
        },
        {
          "output_type": "execute_result",
          "data": {
            "text/plain": [
              "<matplotlib.collections.PathCollection at 0x7fa305db6c88>"
            ]
          },
          "metadata": {
            "tags": []
          },
          "execution_count": 33
        },
        {
          "output_type": "display_data",
          "data": {
            "image/png": "[encoded data removed]",
            "text/plain": [
              "<Figure size 432x288 with 1 Axes>"
            ]
          },
          "metadata": {
            "tags": []
          }
        }
      ]
    },
    {
      "cell_type": "code",
      "metadata": {
        "id": "wU7VxmbRIQpn",
        "colab_type": "code",
        "outputId": "865bb914-bde9-4264-e026-31491c684e33",
        "colab": {
          "base_uri": "https://localhost:8080/",
          "height": 136
        }
      },
      "source": [
        "# Use a SGD classifier as a stochastic optimizer to do logistic regression quickly\n",
        "# Gives the same results after adjusting the alpha value\n",
        "\n",
        "sgd = lm.SGDClassifier(loss='log', penalty= 'l1', alpha=alpha_best).fit(training_x_norm, np.asarray(training_y).ravel())\n",
        "print(sgd.coef_)\n",
        "sgd_prob = sgd.predict_proba(test_x_norm)[:, 1]\n",
        "sgd_training_prob = sgd.predict_proba(training_x_norm)[:, 1]"
      ],
      "execution_count": 0,
      "outputs": [
        {
          "output_type": "stream",
          "text": [
            "[[ 1.11916075e+01 -1.70401672e+01  1.24631438e+00  7.06554906e-01\n",
            "   2.32071914e+01  8.57188857e+00  1.87622849e+00  2.47124233e+00\n",
            "   9.18004841e+00 -2.17415747e+02 -5.72074680e+00  1.15869268e-01\n",
            "   1.47454916e+01  3.10669921e+02  6.55932112e+00 -9.88246379e+00\n",
            "   9.41760917e+00 -4.41797585e+00  6.05143712e+01 -1.67913804e+00\n",
            "   9.70862646e+01  4.02395296e-02  6.56462847e+01 -4.40228796e+02\n",
            "   5.29517838e+02  4.88351096e+01  2.90985601e+01 -4.43793867e+01]]\n"
          ],
          "name": "stdout"
        }
      ]
    },
    {
      "cell_type": "code",
      "metadata": {
        "id": "SVYJgLRS2Ybk",
        "colab_type": "code",
        "outputId": "4e2aff36-3bd7-4950-9fd2-824649e82e58",
        "colab": {
          "base_uri": "https://localhost:8080/",
          "height": 136
        }
      },
      "source": [
        "train_fit = lm.LogisticRegression(solver = 'saga', penalty= 'l1', C=0.2, max_iter=500).fit(training_x_norm, np.asarray(training_y).ravel())\n",
        "print(train_fit.coef_)\n",
        "logit_prob = train_fit.predict_proba(test_x_norm)[:, 1]\n",
        "logit_prob = train_fit.predict_proba(training_x_norm)[:, 1]\n",
        "# Get pretty much the same results using this but it takes way longer, so we opt to use SGD"
      ],
      "execution_count": 0,
      "outputs": [
        {
          "output_type": "stream",
          "text": [
            "[[ 1.22504057e+01 -1.47065913e+01  1.87325332e+00  2.04888175e-01\n",
            "   2.19590729e+01  1.74822328e+00  1.39947043e+00  2.31666561e+00\n",
            "   9.11027397e+00 -2.04939305e+02  1.47864474e+00  1.25442592e-01\n",
            "   1.39727450e+01  2.31911430e+02  4.68803855e+00  0.00000000e+00\n",
            "   9.22397591e+00 -3.27626485e+00  2.92804811e+01  0.00000000e+00\n",
            "   2.74711596e+01 -1.38691532e-02  0.00000000e+00 -4.30537399e+02\n",
            "   9.92123739e+02  0.00000000e+00  0.00000000e+00  0.00000000e+00]]\n"
          ],
          "name": "stdout"
        }
      ]
    },
    {
      "cell_type": "markdown",
      "metadata": {
        "id": "G9GbZD4AyFby",
        "colab_type": "text"
      },
      "source": [
        "##Find optimal threshold"
      ]
    },
    {
      "cell_type": "code",
      "metadata": {
        "id": "iY_vj1_3gVLN",
        "colab_type": "code",
        "outputId": "d5a95129-1bb3-4c55-ac99-8c5d232aa492",
        "colab": {
          "base_uri": "https://localhost:8080/",
          "height": 312
        }
      },
      "source": [
        "fpr, tpr, threshold = skl.metrics.roc_curve(training_y, sgd_training_prob)\n",
        "roc_auc = skl.metrics.auc(fpr, tpr)\n",
        "left = np.asarray([0,1])\n",
        "norm = 1\n",
        "for i in range(len(fpr)):\n",
        "  curve = np.asarray([fpr[i], tpr[i]])\n",
        "  dist = np.linalg.norm(left-curve)\n",
        "  if dist < norm:\n",
        "    norm = dist\n",
        "    x = fpr[i]\n",
        "    y = tpr[i]\n",
        "    thresh = threshold[i]\n",
        "\n",
        "print(\"Optimal Threshold: %0.3f\" % thresh)\n",
        "plt.title('Receiver Operating Characteristic for Training Data')\n",
        "plt.plot(fpr, tpr, 'b', label = 'AUC = %0.2f' % roc_auc)\n",
        "plt.scatter(x, y, c = 'r', marker='X', label='Operating Point\\nTPR:%0.2f\\nFPR:%0.2f' % (y, x))\n",
        "plt.legend(loc = 'lower right')\n",
        "plt.plot([0, 1], [0, 1], 'r--')\n",
        "plt.xlim([0, 1])\n",
        "plt.ylim([0, 1])\n",
        "plt.ylabel('True Positive Rate')\n",
        "plt.xlabel('False Positive Rate')\n",
        "plt.show()"
      ],
      "execution_count": 0,
      "outputs": [
        {
          "output_type": "stream",
          "text": [
            "Optimal Threshold: 0.130\n"
          ],
          "name": "stdout"
        },
        {
          "output_type": "display_data",
          "data": {
            "image/png": "[encoded data removed]",
            "text/plain": [
              "<Figure size 432x288 with 1 Axes>"
            ]
          },
          "metadata": {
            "tags": []
          }
        }
      ]
    },
    {
      "cell_type": "markdown",
      "metadata": {
        "id": "x978X9dkyCS9",
        "colab_type": "text"
      },
      "source": [
        "##Apply to held-out data\n"
      ]
    },
    {
      "cell_type": "code",
      "metadata": {
        "id": "WY5_noe0V58D",
        "colab_type": "code",
        "outputId": "40ef694f-225c-4263-be62-ca7ffff822d1",
        "colab": {
          "base_uri": "https://localhost:8080/",
          "height": 295
        }
      },
      "source": [
        "fpr, tpr, threshold = skl.metrics.roc_curve(test_y, sgd_prob)\n",
        "roc_auc = skl.metrics.auc(fpr, tpr)\n",
        "left = np.asarray([0,1])\n",
        "norm = 1\n",
        "for i in range(len(fpr)):\n",
        "  curve = np.asarray([fpr[i], tpr[i]])\n",
        "  dist = np.linalg.norm(left-curve)\n",
        "  if dist < norm:\n",
        "    norm = dist\n",
        "    x = fpr[i]\n",
        "    y = tpr[i]\n",
        "\n",
        "plt.title('Receiver Operating Characteristic for Testing Data')\n",
        "plt.plot(fpr, tpr, 'b', label = 'AUC = %0.2f' % roc_auc)\n",
        "plt.scatter(x, y, c = 'r', marker='X', label='Operating Point\\nTPR:%0.2f\\nFPR:%0.2f' % (y, x))\n",
        "plt.legend(loc = 'lower right')\n",
        "plt.plot([0, 1], [0, 1], 'r--')\n",
        "plt.xlim([0, 1])\n",
        "plt.ylim([0, 1])\n",
        "plt.ylabel('True Positive Rate')\n",
        "plt.xlabel('False Positive Rate')\n",
        "plt.show()"
      ],
      "execution_count": 0,
      "outputs": [
        {
          "output_type": "display_data",
          "data": {
            "image/png": "[encoded data removed]",
            "text/plain": [
              "<Figure size 432x288 with 1 Axes>"
            ]
          },
          "metadata": {
            "tags": []
          }
        }
      ]
    },
    {
      "cell_type": "code",
      "metadata": {
        "id": "SYsoHZB1GZBe",
        "colab_type": "code",
        "outputId": "c964e109-0299-48dd-f52c-ea0055915ef5",
        "colab": {
          "base_uri": "https://localhost:8080/",
          "height": 170
        }
      },
      "source": [
        "metrics = skl.metrics.classification_report(test_y, sgd.predict(test_x_norm))\n",
        "print(metrics)"
      ],
      "execution_count": 0,
      "outputs": [
        {
          "output_type": "stream",
          "text": [
            "              precision    recall  f1-score   support\n",
            "\n",
            "           0       0.92      0.98      0.95   1186680\n",
            "           1       0.38      0.13      0.19    115698\n",
            "\n",
            "    accuracy                           0.90   1302378\n",
            "   macro avg       0.65      0.55      0.57   1302378\n",
            "weighted avg       0.87      0.90      0.88   1302378\n",
            "\n"
          ],
          "name": "stdout"
        }
      ]
    },
    {
      "cell_type": "code",
      "metadata": {
        "id": "6x058KKDk6C-",
        "colab_type": "code",
        "outputId": "df501cce-f97f-4316-f6f9-7082955d4d0f",
        "colab": {
          "base_uri": "https://localhost:8080/",
          "height": 34
        }
      },
      "source": [
        "test_predict = []\n",
        "for i in sgd_prob:\n",
        "  if i >= thresh:\n",
        "    test_predict.append(1)\n",
        "  else:\n",
        "    test_predict.append(0)\n",
        "print(sum(test_predict))"
      ],
      "execution_count": 0,
      "outputs": [
        {
          "output_type": "stream",
          "text": [
            "245555\n"
          ],
          "name": "stdout"
        }
      ]
    },
    {
      "cell_type": "code",
      "metadata": {
        "id": "Ml-AOPy7v6y6",
        "colab_type": "code",
        "outputId": "7ca71621-b142-427e-fe68-f405951b83f6",
        "colab": {
          "base_uri": "https://localhost:8080/",
          "height": 34
        }
      },
      "source": [
        "# Create a list of all the onset times, probably could have used the ones in the file\n",
        "# given but this works too\n",
        "onset = []\n",
        "indecies = []\n",
        "# Patients from 5624 to 6737 went into shock in the test data so we go through this\n",
        "for i in range(5624, 6738):\n",
        "  index = np.max(np.argwhere(np.asarray(patient) == i))\n",
        "  indecies.append(index)\n",
        "  onset.append(test_time[index])\n",
        "onset = np.asarray(onset).reshape(-1)\n",
        "print(onset[6])"
      ],
      "execution_count": 0,
      "outputs": [
        {
          "output_type": "stream",
          "text": [
            "2197-12-06 11:15:00\n"
          ],
          "name": "stdout"
        }
      ]
    },
    {
      "cell_type": "code",
      "metadata": {
        "id": "1O3_VpNd7wBj",
        "colab_type": "code",
        "outputId": "140dc35b-d9f8-4bc4-87ff-f3a6be0bae71",
        "colab": {
          "base_uri": "https://localhost:8080/",
          "height": 34
        }
      },
      "source": [
        "# Find the earliest instance of a positive shock prediction for eacy true positive patient in the sample\n",
        "# If shock was not correctly preedicted for a patient that went into shock, a 0 is given. \n",
        "early = []\n",
        "for i in indecies:\n",
        "  if test_predict[i] != 1:\n",
        "    early.append(0)\n",
        "    continue\n",
        "  j = i\n",
        "  while test_predict[j] == 1 and patient[j] == patient[j - 1]:\n",
        "    j -= 1\n",
        "  early.append(test_time[j + 1, 0]) \n",
        "\n",
        "early = np.asarray(early)\n",
        "print(early[6])"
      ],
      "execution_count": 0,
      "outputs": [
        {
          "output_type": "stream",
          "text": [
            "2197-12-06 11:15:00\n"
          ],
          "name": "stdout"
        }
      ]
    },
    {
      "cell_type": "code",
      "metadata": {
        "id": "B9wROWX-2Fxe",
        "colab_type": "code",
        "outputId": "566c92ca-4df9-4265-b42a-d3f07853744a",
        "colab": {
          "base_uri": "https://localhost:8080/",
          "height": 54
        }
      },
      "source": [
        "# Time for some magic datetime stuff to calculate prediction time. Wil have prediction time in hours.\n",
        "FMT = '%Y-%m-%d %H:%M:%S'\n",
        "ewt = []\n",
        "for i in range(len(onset)):\n",
        "  if early[i] != '0':\n",
        "    delta = datetime.strptime(onset[i], FMT) - datetime.strptime(early[i], FMT)\n",
        "    ewt.append(delta.total_seconds() / 3600)\n",
        "  else:\n",
        "    ewt.append(0)\n",
        "print(ewt)"
      ],
      "execution_count": 0,
      "outputs": [
        {
          "output_type": "stream",
          "text": [
            "[1.0, 4.6, 0.0, 2.1, 0, 2.8, 0.0, 0.21666666666666667, 0.25, 0.6, 13.233333333333333, 0, 0.0, 2.0833333333333335, 0.8333333333333334, 5.316666666666666, 0, 1.85, 2.5833333333333335, 0.2833333333333333, 6.166666666666667, 0, 0, 9.116666666666667, 1.9833333333333334, 13.5, 25.466666666666665, 185.36666666666667, 5.216666666666667, 0.0, 1.1666666666666667, 1.1333333333333333, 9.083333333333334, 19.6, 13.516666666666667, 0.0, 14.666666666666666, 8.15, 0.25, 16.95, 2.75, 1.0666666666666667, 0, 2.716666666666667, 0.4666666666666667, 63.25, 15.95, 0.23333333333333334, 3.85, 5.966666666666667, 4.7, 159.08333333333334, 0, 0.9666666666666667, 1.05, 2.75, 0.5, 1.6666666666666667, 10.516666666666667, 5.05, 0, 5.0, 6.383333333333334, 14.55, 0, 0.43333333333333335, 20.083333333333332, 1.5, 1.7833333333333334, 20.5, 0.0, 1.6333333333333333, 3.5833333333333335, 0.0, 0.6333333333333333, 0.15, 13.15, 0.0, 6.75, 5.433333333333334, 0.18333333333333332, 0.5, 13.5, 0, 4.5, 1.35, 0.016666666666666666, 0.9833333333333333, 0.75, 1.5166666666666666, 1.05, 3.566666666666667, 0.6666666666666666, 11.083333333333334, 0.0, 0, 9.0, 2.45, 13.0, 106.28333333333333, 1.0, 0.0, 0.38333333333333336, 5.5, 0.6666666666666666, 0.06666666666666667, 1.3166666666666667, 16.666666666666668, 0.0, 16.566666666666666, 14.916666666666666, 9.683333333333334, 6.033333333333333, 1.75, 0.0, 2.55, 3.783333333333333, 0.0, 11.416666666666666, 4.3, 8.0, 0.7, 4.666666666666667, 14.0, 0, 2.5, 1.4166666666666667, 6.383333333333334, 10.0, 3.433333333333333, 15.0, 13.383333333333333, 1.5, 0, 0.5166666666666667, 11.016666666666667, 0.4166666666666667, 1.0, 0, 0.0, 3.3333333333333335, 1.75, 0.6333333333333333, 0.0, 15.283333333333333, 12.583333333333334, 0, 4.833333333333333, 11.733333333333333, 8.75, 0, 18.616666666666667, 0, 1.6666666666666667, 2.25, 3.4, 3.5, 3.966666666666667, 0, 0.7166666666666667, 6.0, 0.36666666666666664, 1.25, 1.75, 3.1, 17.5, 11.05, 0.0, 0.36666666666666664, 0.0, 1.0, 1.75, 6.1, 0.3333333333333333, 0.4166666666666667, 4.3, 6.25, 2.783333333333333, 1.0833333333333333, 0.8, 16.966666666666665, 0.0, 3.5833333333333335, 2.5, 30.316666666666666, 0, 0, 0.9333333333333333, 13.516666666666667, 43.3, 29.25, 1.25, 0.0, 16.383333333333333, 0, 0.9166666666666666, 17.0, 0, 2.2333333333333334, 0, 0.8833333333333333, 0.0, 0.0, 10.0, 4.316666666666666, 1.25, 0.7666666666666667, 9.733333333333333, 9.5, 1.1666666666666667, 3.0, 2.1666666666666665, 0.9166666666666666, 4.25, 7.416666666666667, 0.0, 1.0, 47.11666666666667, 0, 1.0, 27.883333333333333, 20.3, 1.0833333333333333, 8.0, 0.16666666666666666, 6.566666666666666, 23.933333333333334, 3.1666666666666665, 18.933333333333334, 8.366666666666667, 0.0, 0.06666666666666667, 42.0, 18.383333333333333, 0.0, 0.5833333333333334, 26.633333333333333, 1.0, 3.0833333333333335, 1.75, 4.833333333333333, 25.983333333333334, 1.0833333333333333, 1.1333333333333333, 0.2833333333333333, 6.666666666666667, 0, 15.583333333333334, 2.2, 0.16666666666666666, 0.7666666666666667, 0, 4.516666666666667, 17.0, 0, 0, 30.916666666666668, 1.6, 6.333333333333333, 0.25, 0.4166666666666667, 0, 0.25, 10.0, 0.08333333333333333, 5.6, 7.383333333333334, 0.0, 1.1, 0.0, 0.0, 1.1333333333333333, 9.083333333333334, 6.0, 0.25, 7.733333333333333, 3.2333333333333334, 0.0, 3.9166666666666665, 18.483333333333334, 5.566666666666666, 2.0, 1.3333333333333333, 138.63333333333333, 0.0, 3.5, 0, 0.5166666666666667, 2.0, 2.1, 0.3, 0.0, 1.4333333333333333, 2.1666666666666665, 5.833333333333333, 2.5166666666666666, 0, 4.416666666666667, 0.6666666666666666, 3.6666666666666665, 26.35, 6.65, 1.25, 2.9, 3.533333333333333, 2.0166666666666666, 1.4333333333333333, 20.5, 2.7333333333333334, 4.933333333333334, 0, 10.0, 0.5, 2.75, 2.933333333333333, 43.35, 31.316666666666666, 3.9, 1.25, 0.3, 0.16666666666666666, 3.0, 3.533333333333333, 9.95, 0.7666666666666667, 22.133333333333333, 0.8333333333333334, 0.03333333333333333, 6.5, 2.25, 0.0, 21.2, 0, 89.0, 2.6666666666666665, 9.9, 1.5, 2.066666666666667, 0.0, 0.75, 0, 0, 6.0, 0.8666666666666667, 1.7166666666666666, 13.0, 0.0, 2.533333333333333, 4.333333333333333, 3.6666666666666665, 0.0, 0.0, 8.983333333333333, 0.0, 0.0, 1.8666666666666667, 6.583333333333333, 15.433333333333334, 138.6, 6.4, 9.5, 0.35, 0.0, 17.15, 3.183333333333333, 1.05, 10.616666666666667, 16.5, 8.116666666666667, 52.5, 28.833333333333332, 6.833333333333333, 17.583333333333332, 1.5333333333333334, 4.15, 30.766666666666666, 7.75, 4.933333333333334, 30.883333333333333, 4.65, 3.5, 0.0, 0.75, 30.5, 17.0, 3.95, 4.983333333333333, 0.1, 0, 0, 1.0, 0, 0.0, 13.0, 0.8, 8.316666666666666, 19.75, 7.166666666666667, 11.316666666666666, 6.533333333333333, 2.0, 0.0, 3.7666666666666666, 0, 0.0, 1.0, 0.7666666666666667, 12.0, 6.5, 4.5, 3.5, 41.0, 4.95, 1.9833333333333334, 10.5, 0, 0.0, 1.9833333333333334, 1.2666666666666666, 0.9, 1.6833333333333333, 1.0166666666666666, 6.15, 7.25, 0, 0, 13.666666666666666, 5.966666666666667, 0.7333333333333333, 7.2, 1.1333333333333333, 0.6166666666666667, 5.116666666666666, 15.716666666666667, 20.0, 2.55, 6.166666666666667, 10.0, 13.116666666666667, 47.5, 32.666666666666664, 1.6666666666666667, 21.65, 0.75, 0, 6.883333333333334, 2.15, 7.35, 9.75, 72.0, 8.95, 26.733333333333334, 0.5, 0, 9.283333333333333, 1.3333333333333333, 1.25, 0.0, 0.95, 15.0, 2.85, 1.0, 0.0, 0, 3.5833333333333335, 0.3, 2.7, 1.0, 0.0, 1.65, 1.0, 0.9666666666666667, 1.0, 29.0, 12.25, 16.05, 0.6666666666666666, 0.75, 1.0, 0.75, 3.75, 12.233333333333333, 5.0, 7.65, 4.166666666666667, 6.916666666666667, 1.0, 1.8833333333333333, 19.066666666666666, 1.0, 1.6666666666666667, 8.65, 0.0, 18.533333333333335, 0.0, 0.75, 11.966666666666667, 3.5, 1.5166666666666666, 0.0, 0, 0.4, 3.1666666666666665, 3.6, 5.7, 0.0, 1.5, 1.0833333333333333, 0.8333333333333334, 3.533333333333333, 6.333333333333333, 0.26666666666666666, 8.266666666666667, 32.0, 3.1, 7.566666666666666, 3.1333333333333333, 0.9333333333333333, 4.066666666666666, 3.5, 4.0, 2.1, 28.433333333333334, 1.7166666666666666, 9.283333333333333, 5.816666666666666, 0.16666666666666666, 0.0, 3.8, 6.083333333333333, 0, 6.25, 1.25, 1.8833333333333333, 2.933333333333333, 0, 17.016666666666666, 0.0, 18.783333333333335, 0.0, 0.0, 8.466666666666667, 0.0, 0.0, 1.1, 4.45, 0, 6.15, 11.5, 8.533333333333333, 0, 3.0833333333333335, 4.7, 1.25, 4.466666666666667, 0.0, 1.8833333333333333, 19.75, 6.066666666666666, 2.3333333333333335, 3.3833333333333333, 6.5, 2.2333333333333334, 0.8333333333333334, 0, 3.0833333333333335, 60.166666666666664, 2.45, 0.6333333333333333, 13.9, 5.7, 0, 1.35, 9.5, 8.516666666666667, 2.716666666666667, 1.5, 0.0, 8.0, 0, 6.416666666666667, 3.0833333333333335, 2.5, 5.616666666666666, 0, 16.5, 2.0, 8.0, 1.25, 1.8333333333333333, 0, 18.0, 2.05, 0.5166666666666667, 4.183333333333334, 0.0, 1.4166666666666667, 0.0, 0.75, 2.3333333333333335, 8.783333333333333, 5.833333333333333, 300.0, 5.25, 0.0, 0.0, 2.1333333333333333, 1.0, 0.0, 38.68333333333333, 2.1333333333333333, 23.75, 1.1666666666666667, 10.15, 2.8833333333333333, 0.21666666666666667, 2.1166666666666667, 7.3, 15.1, 9.683333333333334, 0.9, 2.2666666666666666, 3.7333333333333334, 0, 17.0, 2.466666666666667, 17.35, 0.0, 6.816666666666666, 1.0, 0, 0.8833333333333333, 0.23333333333333334, 9.05, 1.6333333333333333, 0.9833333333333333, 0, 0, 1.0, 0.9166666666666666, 0, 2.966666666666667, 47.583333333333336, 3.6333333333333333, 0, 0.0, 0.7166666666666667, 2.8, 0.31666666666666665, 0.25, 0.16666666666666666, 34.583333333333336, 2.3333333333333335, 0.5666666666666667, 14.933333333333334, 0.75, 0.0, 3.8333333333333335, 6.533333333333333, 1.3333333333333333, 0, 2.5, 20.083333333333332, 0.8833333333333333, 0.75, 14.9, 0, 0.0, 0, 7.533333333333333, 0.38333333333333336, 5.983333333333333, 2.183333333333333, 4.433333333333334, 1.2, 19.683333333333334, 0.0, 0, 0.36666666666666664, 41.016666666666666, 2.7, 0, 11.433333333333334, 2.1666666666666665, 2.6666666666666665, 3.1, 0.1, 0.6833333333333333, 12.166666666666666, 11.0, 0.6833333333333333, 0.0, 5.5, 0, 0, 1.9333333333333333, 0.31666666666666665, 10.116666666666667, 7.666666666666667, 0.0, 0.5833333333333334, 6.55, 25.183333333333334, 0.31666666666666665, 4.9, 1.45, 1.5166666666666666, 8.7, 8.283333333333333, 5.466666666666667, 1.1833333333333333, 4.266666666666667, 8.583333333333334, 2.216666666666667, 1.8, 0.0, 52.18333333333333, 0.5, 13.416666666666666, 6.0, 13.983333333333333, 0, 3.4833333333333334, 101.33333333333333, 1.5833333333333333, 2.966666666666667, 3.4166666666666665, 21.716666666666665, 4.466666666666667, 1.9, 0.7666666666666667, 1.5833333333333333, 2.0, 4.15, 4.133333333333334, 3.8333333333333335, 46.2, 0.0, 2.1, 0, 11.75, 6.216666666666667, 2.933333333333333, 0.8333333333333334, 1.8166666666666667, 0.23333333333333334, 0.95, 2.6333333333333333, 0.25, 0.43333333333333335, 0, 0.0, 0.7, 23.733333333333334, 4.833333333333333, 1.4, 10.95, 0, 0, 2.55, 7.15, 2.8833333333333333, 0.18333333333333332, 0.8833333333333333, 4.55, 5.75, 11.133333333333333, 3.0833333333333335, 0.95, 5.15, 2.2666666666666666, 3.0833333333333335, 63.3, 21.25, 0.4166666666666667, 2.35, 0.0, 7.95, 1.9833333333333334, 0.7666666666666667, 1.0166666666666666, 3.2333333333333334, 0.05, 3.8, 0.0, 4.666666666666667, 10.15, 7.95, 0.05, 0.38333333333333336, 0, 10.983333333333333, 2.75, 0, 0, 0.95, 0.0, 0.6, 6.283333333333333, 5.866666666666666, 11.816666666666666, 2.533333333333333, 7.166666666666667, 0.13333333333333333, 0.8833333333333333, 10.683333333333334, 0, 0.48333333333333334, 28.916666666666668, 0.6666666666666666, 0.2833333333333333, 3.5166666666666666, 11.75, 2.283333333333333, 0.21666666666666667, 1.35, 0.35, 5.7, 1.9333333333333333, 0.35, 0.55, 0.0, 0, 11.25, 0.0, 0.0, 0.06666666666666667, 25.65, 2.1666666666666665, 1.3, 2.65, 3.1333333333333333, 5.15, 0.7666666666666667, 0, 1.1666666666666667, 0.16666666666666666, 9.866666666666667, 1.9, 9.383333333333333, 9.416666666666666, 2.1, 0.0, 1.4166666666666667, 0.3, 0, 1.0833333333333333, 1.9833333333333334, 0.26666666666666666, 5.416666666666667, 11.416666666666666, 0.0, 0.4, 1.0333333333333334, 7.25, 2.533333333333333, 0.5166666666666667, 5.933333333333334, 1.4166666666666667, 1.3166666666666667, 6.5, 0.21666666666666667, 4.533333333333333, 4.5, 0.05, 0, 2.6666666666666665, 4.183333333333334, 1.1833333333333333, 5.183333333333334, 0, 0, 0.36666666666666664, 0.9, 5.816666666666666, 42.1, 29.316666666666666, 4.833333333333333, 5.133333333333334, 0.25, 1.55, 6.85, 0.5333333333333333, 18.766666666666666, 10.15, 3.1166666666666667, 0.0, 1.7166666666666666, 0.45, 0.4, 0, 0, 0.35, 4.183333333333334, 1.2333333333333334, 0, 2.216666666666667, 1.9666666666666666, 31.766666666666666, 0.48333333333333334, 6.233333333333333, 17.183333333333334, 15.983333333333333, 9.016666666666667, 3.0166666666666666, 0, 1.5, 0.6166666666666667, 18.3, 0.0, 29.35, 0.0, 3.95, 0.0, 0.6666666666666666, 0.1, 0.4666666666666667, 0.9333333333333333, 0.18333333333333332, 6.983333333333333, 1.3833333333333333, 20.666666666666668, 0.36666666666666664, 0.0, 2.1333333333333333, 24.4, 3.75, 2.2333333333333334, 6.25, 0.05, 7.166666666666667, 0, 5.516666666666667, 3.2666666666666666, 4.316666666666666, 2.0166666666666666, 11.933333333333334, 0.11666666666666667, 3.033333333333333, 1.8, 3.55, 0.11666666666666667, 2.0, 0, 1.7833333333333334, 0, 0, 2.1, 0.16666666666666666, 0.0, 4.0, 2.25, 0.26666666666666666, 2.8, 0.9, 2.8333333333333335, 0.0, 14.0, 1.8166666666666667, 0.16666666666666666, 0.4666666666666667, 2.65, 0, 3.6333333333333333, 3.566666666666667, 3.0166666666666666, 0.36666666666666664, 6.266666666666667, 13.916666666666666, 3.25, 0.0, 3.466666666666667, 0.0, 11.5, 0.13333333333333333, 5.95, 0.6833333333333333, 0, 1.2833333333333334, 98.41666666666667, 22.55, 0, 6.45, 4.55, 0.6333333333333333, 8.6, 0, 3.6333333333333333, 0.0, 17.133333333333333, 5.566666666666666, 2.4, 6.5, 3.0, 0.0, 1.7, 2.05, 0, 0, 33.416666666666664, 0, 46.96666666666667, 1.3666666666666667, 0.0, 8.75, 0.0, 1.5333333333333334, 4.033333333333333, 54.06666666666667, 0.16666666666666666, 4.25, 0.6166666666666667, 9.466666666666667, 1.05, 0.35, 1.4166666666666667, 0.5, 1.1333333333333333, 1.2666666666666666, 1.8, 12.2, 2.0, 3.1333333333333333, 10.9, 4.616666666666666, 2.65, 0.8166666666666667, 0.4666666666666667, 0.3333333333333333, 1.0, 0.016666666666666666, 0.8, 3.433333333333333, 0.0, 25.133333333333333, 5.816666666666666, 2.55, 2.0833333333333335, 0.6833333333333333, 0.9833333333333333, 0.0, 0.06666666666666667, 0.95, 0.0, 1.7166666666666666, 3.066666666666667, 3.4833333333333334, 0.0, 6.366666666666666, 0.1, 0.0, 1.1666666666666667, 0.95, 59.5, 0.0, 0.25, 4.05, 0.5666666666666667, 2.0, 0.8833333333333333, 2.75, 2.4833333333333334, 0, 7.266666666666667, 1.0, 4.133333333333334, 0.48333333333333334, 0.26666666666666666, 0.0, 1.8833333333333333, 0, 2.966666666666667, 1.7666666666666666, 6.3, 9.0, 0.65, 3.8833333333333333, 0.5666666666666667, 1.3, 0.5833333333333334, 2.7, 0.9166666666666666, 0, 20.0, 0.35, 1.1666666666666667, 1.0, 0.26666666666666666, 4.483333333333333, 2.25, 0.4666666666666667, 0.8166666666666667, 1.65, 22.066666666666666, 13.716666666666667, 3.2, 1.5666666666666667, 1.45, 0.21666666666666667, 2.3833333333333333, 4.033333333333333, 0, 0.0, 1.5166666666666666, 0, 13.183333333333334, 0.05, 5.116666666666666, 0, 2.5, 0.85, 5.2, 0.06666666666666667, 4.166666666666667]\n"
          ],
          "name": "stdout"
        }
      ]
    },
    {
      "cell_type": "code",
      "metadata": {
        "id": "BMFGE9I397IF",
        "colab_type": "code",
        "outputId": "4f4aa34a-9156-4032-8c18-619d253a6dd6",
        "colab": {
          "base_uri": "https://localhost:8080/",
          "height": 384
        }
      },
      "source": [
        "bins = np.linspace(0, 48, 35)\n",
        "plt.figure(figsize=[10, 5])\n",
        "groups = plt.hist(ewt, bins)\n",
        "plt.axvline(np.median(ewt), color='r', label='Median: %0.2f hrs' % np.median(ewt))\n",
        "plt.axvline(np.mean(ewt), color='g', label='Mean: %0.2f hrs' % np.mean(ewt))\n",
        "plt.legend(loc = 'upper right')\n",
        "plt.title('Histogram of EWT')\n",
        "plt.ylabel('Frequency')\n",
        "plt.xlabel('Early Warning Time [Hours]')\n",
        "print(\"Median Early Waring Time: \", np.median(ewt), 'hours.')\n",
        "print(\"Mean Early Waring Time: %0.2f hours.\" % np.mean(ewt))"
      ],
      "execution_count": 0,
      "outputs": [
        {
          "output_type": "stream",
          "text": [
            "Median Early Waring Time:  2.0 hours.\n",
            "Mean Early Waring Time: 6.40 hours.\n"
          ],
          "name": "stdout"
        },
        {
          "output_type": "display_data",
          "data": {
            "image/png": "[encoded data removed]",
            "text/plain": [
              "<Figure size 720x360 with 1 Axes>"
            ]
          },
          "metadata": {
            "tags": []
          }
        }
      ]
    },
    {
      "cell_type": "markdown",
      "metadata": {
        "id": "OFIZamsKvDNn",
        "colab_type": "text"
      },
      "source": [
        "#Now with data balancing"
      ]
    },
    {
      "cell_type": "code",
      "metadata": {
        "id": "ByqsM-amMHpk",
        "colab_type": "code",
        "outputId": "fd682bf1-1614-4bfc-ed41-229c66386da7",
        "colab": {
          "base_uri": "https://localhost:8080/",
          "height": 34
        }
      },
      "source": [
        "print('Percent of patients that went into shock: %0.2f' % (np.sum(training_y) / len(training_y) * 100) + ' %')\n",
        "# We can see that only about 17% of the patients in the data-set went into septic shock\n",
        "# which is a pretty low proportion of the data. To try to balance this, we use some oversampling."
      ],
      "execution_count": 0,
      "outputs": [
        {
          "output_type": "stream",
          "text": [
            "Percent of patients that went into shock: 16.53 %\n"
          ],
          "name": "stdout"
        }
      ]
    },
    {
      "cell_type": "code",
      "metadata": {
        "id": "zikGi-kWupgS",
        "colab_type": "code",
        "outputId": "8b8f2a8e-47e8-4f60-8578-d370011dbed5",
        "colab": {
          "base_uri": "https://localhost:8080/",
          "height": 34
        }
      },
      "source": [
        "minority = training_x_norm[np.argwhere(training_y.reshape(-1) == 1)]\n",
        "num = training_y.reshape(-1).shape[0] - minority.shape[0] \n",
        "minority = minority.reshape(minority.shape[0], 28)\n",
        "# Upsample the minority data to match the numper of smaples in the majority. \n",
        "minority = skl.utils.resample(minority, replace = True, n_samples = num)\n",
        "majority = training_x_norm[np.argwhere(training_y.reshape(-1) == 0)]\n",
        "majority = majority.reshape(majority.shape[0], 28)\n",
        "\n",
        "training_upsample_x = np.concatenate([majority, minority])\n",
        "training_upsample_y = np.zeros(training_upsample_x.shape[0])\n",
        "training_upsample_y[int(training_upsample_x.shape[0] / 2): training_upsample_x.shape[0]] = 1\n",
        "print(training_upsample_x.shape)"
      ],
      "execution_count": 0,
      "outputs": [
        {
          "output_type": "stream",
          "text": [
            "(2631400, 28)\n"
          ],
          "name": "stdout"
        }
      ]
    },
    {
      "cell_type": "code",
      "metadata": {
        "id": "bLTqhhMdwEZH",
        "colab_type": "code",
        "outputId": "bd68fc50-6b74-4ac4-e216-47f6ae1b7697",
        "colab": {
          "base_uri": "https://localhost:8080/",
          "height": 119
        }
      },
      "source": [
        "# Now repeat the above calculations using the upsampled data\n",
        "sgd = lm.SGDClassifier(loss='log', penalty= 'l1', alpha=alpha_best).fit(training_upsample_x, training_upsample_y)\n",
        "print(sgd.coef_)\n",
        "sgd_prob = sgd.predict_proba(test_x_norm)[:, 1]\n",
        "sgd_training_prob = sgd.predict_proba(training_upsample_x)[:, 1]"
      ],
      "execution_count": 0,
      "outputs": [
        {
          "output_type": "stream",
          "text": [
            "[[  13.66678885  -21.59664774   -2.99182907    5.03938833   30.65507424\n",
            "     6.73866952    1.85066101    2.44933292    9.94963499 -259.87279651\n",
            "    -7.8060616     0.           11.04522312  466.68661472    7.34332535\n",
            "   -18.80106847   16.47795394   -5.67030894   62.16133227   -5.65963185\n",
            "   158.8620419     0.          119.77975131 -528.62902063  787.26864522\n",
            "    74.08624972   63.6429777   -40.85289106]]\n"
          ],
          "name": "stdout"
        }
      ]
    },
    {
      "cell_type": "markdown",
      "metadata": {
        "id": "2wXoPd_VxyeW",
        "colab_type": "text"
      },
      "source": [
        "##Find optimal threshold"
      ]
    },
    {
      "cell_type": "code",
      "metadata": {
        "id": "F-wmAhSP0caJ",
        "colab_type": "code",
        "outputId": "a327d792-8427-433b-f536-4ba7ee1f5647",
        "colab": {
          "base_uri": "https://localhost:8080/",
          "height": 312
        }
      },
      "source": [
        "fpr, tpr, threshold = skl.metrics.roc_curve(training_upsample_y, sgd_training_prob)\n",
        "roc_auc = skl.metrics.auc(fpr, tpr)\n",
        "left = np.asarray([0,1])\n",
        "norm = 1\n",
        "for i in range(len(fpr)):\n",
        "  curve = np.asarray([fpr[i], tpr[i]])\n",
        "  dist = np.linalg.norm(left-curve)\n",
        "  if dist < norm:\n",
        "    norm = dist\n",
        "    x = fpr[i]\n",
        "    y = tpr[i]\n",
        "    thresh = threshold[i]\n",
        "\n",
        "print(\"Optimal Threshold: %0.3f\" % thresh)\n",
        "plt.title('Receiver Operating Characteristic for Balanced Training Data')\n",
        "plt.plot(fpr, tpr, 'b', label = 'AUC = %0.2f' % roc_auc)\n",
        "plt.scatter(x, y, c = 'r', marker='X', label='Operating Point\\nTPR:%0.2f\\nFPR:%0.2f' % (y, x))\n",
        "plt.legend(loc = 'lower right')\n",
        "plt.plot([0, 1], [0, 1], 'r--')\n",
        "plt.xlim([0, 1])\n",
        "plt.ylim([0, 1])\n",
        "plt.ylabel('True Positive Rate')\n",
        "plt.xlabel('False Positive Rate')\n",
        "plt.show()\n",
        "# AUC increases a little and threshold increase drastically here using upsampling"
      ],
      "execution_count": 0,
      "outputs": [
        {
          "output_type": "stream",
          "text": [
            "Optimal Threshold: 0.408\n"
          ],
          "name": "stdout"
        },
        {
          "output_type": "display_data",
          "data": {
            "image/png": "[encoded data removed]",
            "text/plain": [
              "<Figure size 432x288 with 1 Axes>"
            ]
          },
          "metadata": {
            "tags": []
          }
        }
      ]
    },
    {
      "cell_type": "markdown",
      "metadata": {
        "id": "CQ3hCv8Jx11D",
        "colab_type": "text"
      },
      "source": [
        "##Apply to held-out data"
      ]
    },
    {
      "cell_type": "code",
      "metadata": {
        "id": "CJC8z2sH0kc5",
        "colab_type": "code",
        "outputId": "7eda4fb1-96bd-4ae8-e8c2-dcd472fa9673",
        "colab": {
          "base_uri": "https://localhost:8080/",
          "height": 295
        }
      },
      "source": [
        "fpr, tpr, threshold = skl.metrics.roc_curve(test_y, sgd_prob)\n",
        "roc_auc = skl.metrics.auc(fpr, tpr)\n",
        "left = np.asarray([0,1])\n",
        "norm = 1\n",
        "for i in range(len(fpr)):\n",
        "  curve = np.asarray([fpr[i], tpr[i]])\n",
        "  dist = np.linalg.norm(left-curve)\n",
        "  if dist < norm:\n",
        "    norm = dist\n",
        "    x = fpr[i]\n",
        "    y = tpr[i]\n",
        "\n",
        "plt.title('Receiver Operating Characteristic for Balanced Testing Data')\n",
        "plt.plot(fpr, tpr, 'b', label = 'AUC = %0.2f' % roc_auc)\n",
        "plt.scatter(x, y, c = 'r', marker='X', label='Operating Point\\nTPR:%0.2f\\nFPR:%0.2f' % (y, x))\n",
        "plt.legend(loc = 'lower right')\n",
        "plt.plot([0, 1], [0, 1], 'r--')\n",
        "plt.xlim([0, 1])\n",
        "plt.ylim([0, 1])\n",
        "plt.ylabel('True Positive Rate')\n",
        "plt.xlabel('False Positive Rate')\n",
        "plt.show()\n",
        "# Looks like the AUC here increases by a bit with balancing"
      ],
      "execution_count": 0,
      "outputs": [
        {
          "output_type": "display_data",
          "data": {
            "image/png": "[encoded data removed]",
            "text/plain": [
              "<Figure size 432x288 with 1 Axes>"
            ]
          },
          "metadata": {
            "tags": []
          }
        }
      ]
    },
    {
      "cell_type": "code",
      "metadata": {
        "id": "hyiCfGBuHC0c",
        "colab_type": "code",
        "outputId": "e77b68c1-ace1-44ca-c390-7f54ad9a7069",
        "colab": {
          "base_uri": "https://localhost:8080/",
          "height": 170
        }
      },
      "source": [
        "metrics = skl.metrics.classification_report(test_y, sgd.predict(test_x_norm))\n",
        "print(metrics)"
      ],
      "execution_count": 0,
      "outputs": [
        {
          "output_type": "stream",
          "text": [
            "              precision    recall  f1-score   support\n",
            "\n",
            "           0       0.94      0.89      0.92   1186680\n",
            "           1       0.26      0.39      0.31    115698\n",
            "\n",
            "    accuracy                           0.85   1302378\n",
            "   macro avg       0.60      0.64      0.61   1302378\n",
            "weighted avg       0.88      0.85      0.86   1302378\n",
            "\n"
          ],
          "name": "stdout"
        }
      ]
    },
    {
      "cell_type": "code",
      "metadata": {
        "id": "hov1p-Wa03LV",
        "colab_type": "code",
        "outputId": "cf5dc6fc-7924-41da-bc00-f88801ad99e3",
        "colab": {
          "base_uri": "https://localhost:8080/",
          "height": 34
        }
      },
      "source": [
        "test_predict = []\n",
        "for i in sgd_prob:\n",
        "  if i >= thresh:\n",
        "    test_predict.append(1)\n",
        "  else:\n",
        "    test_predict.append(0)\n",
        "print(sum(test_predict))"
      ],
      "execution_count": 0,
      "outputs": [
        {
          "output_type": "stream",
          "text": [
            "265572\n"
          ],
          "name": "stdout"
        }
      ]
    },
    {
      "cell_type": "markdown",
      "metadata": {
        "id": "rKBochtPx8NY",
        "colab_type": "text"
      },
      "source": [
        "##Compute and plot EWT"
      ]
    },
    {
      "cell_type": "code",
      "metadata": {
        "id": "2bXQTTpN08Ku",
        "colab_type": "code",
        "outputId": "3858a623-7db6-443f-d71b-3aa0398e7176",
        "colab": {
          "base_uri": "https://localhost:8080/",
          "height": 34
        }
      },
      "source": [
        "# Create a list of all the onset times, probably could have used the ones in the file\n",
        "# given but this works too\n",
        "onset = []\n",
        "indecies = []\n",
        "# Patients from 5624 to 6737 went into shock in the test data so we go through this\n",
        "for i in range(5624, 6738):\n",
        "  index = np.max(np.argwhere(np.asarray(patient) == i))\n",
        "  indecies.append(index)\n",
        "  onset.append(test_time[index])\n",
        "onset = np.asarray(onset).reshape(-1)\n",
        "print(onset[6])"
      ],
      "execution_count": 0,
      "outputs": [
        {
          "output_type": "stream",
          "text": [
            "2197-12-06 11:15:00\n"
          ],
          "name": "stdout"
        }
      ]
    },
    {
      "cell_type": "code",
      "metadata": {
        "id": "mQQF5VtW0-YZ",
        "colab_type": "code",
        "outputId": "27bbcc46-9710-40d7-c9b8-b734b7891886",
        "colab": {
          "base_uri": "https://localhost:8080/",
          "height": 34
        }
      },
      "source": [
        "# Find the earliest instance of a positive shock prediction for eacy true positive patient in the sample\n",
        "# If shock was not correctly predicted for a patient that went into shock, a 0 is given. \n",
        "early = []\n",
        "for i in indecies:\n",
        "  if test_predict[i] != 1:\n",
        "    early.append(0)\n",
        "    continue\n",
        "  j = i\n",
        "  while test_predict[j] == 1 and patient[j] == patient[j - 1]:\n",
        "    j -= 1\n",
        "  early.append(test_time[j + 1, 0]) \n",
        "\n",
        "early = np.asarray(early)\n",
        "print(early[6])"
      ],
      "execution_count": 0,
      "outputs": [
        {
          "output_type": "stream",
          "text": [
            "2197-12-06 11:15:00\n"
          ],
          "name": "stdout"
        }
      ]
    },
    {
      "cell_type": "code",
      "metadata": {
        "id": "WfVB1iVc1DKS",
        "colab_type": "code",
        "outputId": "9cbd13fb-ed80-4760-d405-6c763069e4ac",
        "colab": {
          "base_uri": "https://localhost:8080/",
          "height": 54
        }
      },
      "source": [
        "# Time for some magic datetime stuff to calculate prediction time. Wil have prediction time in hours.\n",
        "FMT = '%Y-%m-%d %H:%M:%S'\n",
        "ewt = []\n",
        "for i in range(len(onset)):\n",
        "  if early[i] != '0':\n",
        "    delta = datetime.strptime(onset[i], FMT) - datetime.strptime(early[i], FMT)\n",
        "    ewt.append(delta.total_seconds() / 3600)\n",
        "  else:\n",
        "    ewt.append(0)\n",
        "print(ewt)"
      ],
      "execution_count": 0,
      "outputs": [
        {
          "output_type": "stream",
          "text": [
            "[1.0, 4.6, 0.0, 2.1, 0.0, 2.8, 0.0, 0.21666666666666667, 0.25, 0.6, 13.233333333333333, 0, 0.0, 2.0833333333333335, 0.8333333333333334, 5.316666666666666, 0, 1.85, 2.5833333333333335, 0.2833333333333333, 6.166666666666667, 0, 0, 9.116666666666667, 1.9833333333333334, 13.5, 25.466666666666665, 44.86666666666667, 5.216666666666667, 1.4666666666666666, 1.1666666666666667, 3.6666666666666665, 9.083333333333334, 19.6, 13.516666666666667, 0.0, 11.666666666666666, 16.05, 0.5, 16.95, 4.25, 1.0666666666666667, 0, 2.716666666666667, 0.4666666666666667, 63.25, 15.95, 0.23333333333333334, 3.85, 5.966666666666667, 4.7, 159.08333333333334, 0, 0.9666666666666667, 1.05, 2.75, 0.5, 1.6666666666666667, 10.516666666666667, 5.05, 0.0, 5.0, 6.383333333333334, 14.55, 18.5, 0.43333333333333335, 20.083333333333332, 2.8833333333333333, 6.45, 26.416666666666668, 0.0, 1.6333333333333333, 3.5833333333333335, 0.0, 0.6333333333333333, 0.15, 13.15, 0.0, 8.25, 5.433333333333334, 0.18333333333333332, 0.5, 13.5, 0, 4.5, 1.35, 0.016666666666666666, 0.9833333333333333, 0.18333333333333332, 1.5166666666666666, 1.05, 3.566666666666667, 0.6666666666666666, 11.083333333333334, 0.0, 0, 9.0, 2.45, 13.0, 141.78333333333333, 1.0, 0.0, 0.38333333333333336, 5.5, 0.6666666666666666, 0.06666666666666667, 0.8166666666666667, 16.666666666666668, 1.3666666666666667, 16.566666666666666, 14.916666666666666, 9.683333333333334, 6.033333333333333, 1.75, 0.0, 2.55, 3.783333333333333, 0.0, 11.416666666666666, 4.3, 8.0, 0.7, 7.466666666666667, 14.0, 0.0, 2.5, 1.4166666666666667, 6.383333333333334, 11.0, 3.433333333333333, 15.0, 13.383333333333333, 1.5, 0.0, 0.5166666666666667, 11.016666666666667, 0.4166666666666667, 1.0, 0, 1.2833333333333334, 3.3333333333333335, 5.75, 0.6333333333333333, 3.5, 15.283333333333333, 12.583333333333334, 0, 4.833333333333333, 11.733333333333333, 8.75, 0, 18.616666666666667, 0.0, 1.6666666666666667, 2.25, 3.4, 3.5, 3.966666666666667, 0, 0.7166666666666667, 5.966666666666667, 0.36666666666666664, 1.25, 1.75, 3.1, 25.5, 11.05, 0.0, 0.36666666666666664, 0.0, 1.0, 1.75, 6.1, 0.3333333333333333, 0.4166666666666667, 4.3, 3.0, 2.783333333333333, 1.0833333333333333, 0.8, 16.966666666666665, 0.0, 3.5833333333333335, 2.5, 30.316666666666666, 0.0, 0.8666666666666667, 0.9333333333333333, 13.516666666666667, 43.3, 29.25, 1.25, 11.35, 16.383333333333333, 21.75, 0.9166666666666666, 17.0, 3.3, 2.2333333333333334, 0, 2.1333333333333333, 0.0, 0.0, 10.0, 4.316666666666666, 1.25, 0.7666666666666667, 9.733333333333333, 9.5, 1.1666666666666667, 3.0, 2.1666666666666665, 0.9166666666666666, 4.25, 7.416666666666667, 0.0, 1.0, 47.11666666666667, 0, 1.0, 27.883333333333333, 20.3, 1.0833333333333333, 8.0, 0.16666666666666666, 8.15, 23.933333333333334, 3.1666666666666665, 18.933333333333334, 8.366666666666667, 0.0, 0.06666666666666667, 42.0, 18.383333333333333, 0.0, 0.5833333333333334, 26.633333333333333, 1.0, 3.0833333333333335, 1.75, 4.833333333333333, 25.983333333333334, 1.0833333333333333, 1.1333333333333333, 0.2833333333333333, 6.666666666666667, 2.4, 15.583333333333334, 4.2, 0.16666666666666666, 3.5166666666666666, 0, 4.516666666666667, 17.0, 0, 0, 79.0, 1.6, 6.333333333333333, 0.25, 0.4166666666666667, 0.5833333333333334, 0.25, 10.0, 0.08333333333333333, 5.6, 7.383333333333334, 0.0, 1.1, 0.0, 0.0, 1.1333333333333333, 9.083333333333334, 61.86666666666667, 0.25, 7.733333333333333, 3.2333333333333334, 0.0, 3.9166666666666665, 18.483333333333334, 5.566666666666666, 2.0, 1.3333333333333333, 138.63333333333333, 1.0, 3.5, 0, 0.5166666666666667, 2.0, 0.0, 0.3, 0.0, 1.4333333333333333, 2.1666666666666665, 5.833333333333333, 2.5166666666666666, 0, 2.966666666666667, 0.6666666666666666, 3.6666666666666665, 26.35, 6.65, 1.25, 2.9, 3.533333333333333, 3.8833333333333333, 1.4333333333333333, 20.5, 2.7333333333333334, 4.933333333333334, 0, 10.0, 0.5, 1.5, 3.0166666666666666, 43.35, 31.316666666666666, 3.9, 1.25, 0.3, 0.16666666666666666, 3.0, 3.533333333333333, 9.95, 0.7666666666666667, 21.883333333333333, 0.8333333333333334, 0.03333333333333333, 6.5, 2.25, 0.0, 21.2, 0, 89.0, 4.166666666666667, 9.9, 1.5, 2.066666666666667, 0.0, 0.75, 0, 0, 6.0, 0.8666666666666667, 1.7166666666666666, 13.0, 0.0, 2.533333333333333, 4.166666666666667, 3.6666666666666665, 1.75, 0.16666666666666666, 8.983333333333333, 0.0, 0.0, 1.8666666666666667, 6.583333333333333, 15.433333333333334, 209.25, 6.4, 9.5, 0.35, 9.916666666666666, 17.15, 3.183333333333333, 1.05, 10.616666666666667, 17.0, 8.116666666666667, 52.5, 28.833333333333332, 6.833333333333333, 17.583333333333332, 1.5333333333333334, 4.15, 30.766666666666666, 9.333333333333334, 4.933333333333334, 30.883333333333333, 5.0, 3.5, 0.0, 0.75, 34.5, 18.8, 3.95, 4.983333333333333, 4.1, 0, 0, 1.0, 0, 0.0, 13.0, 0.8, 8.316666666666666, 19.75, 7.166666666666667, 11.316666666666666, 3.7333333333333334, 2.0, 0.0, 6.116666666666666, 0, 0.0, 2.0, 0.7666666666666667, 12.5, 6.5, 4.5, 3.45, 41.0, 7.0, 1.9833333333333334, 10.5, 0, 0.0, 1.9833333333333334, 1.2666666666666666, 0.9, 1.6833333333333333, 1.0166666666666666, 6.15, 7.25, 0, 0, 13.666666666666666, 5.966666666666667, 0.7333333333333333, 7.2, 1.1333333333333333, 0.6166666666666667, 5.116666666666666, 15.716666666666667, 20.0, 2.55, 6.166666666666667, 10.0, 13.116666666666667, 47.5, 32.666666666666664, 1.6666666666666667, 21.65, 0.75, 0.0, 6.883333333333334, 2.15, 10.5, 9.75, 72.0, 8.95, 26.733333333333334, 0.5, 0, 9.283333333333333, 1.3333333333333333, 1.25, 0.0, 0.95, 15.0, 2.85, 1.0, 0.31666666666666665, 0, 3.5833333333333335, 0.3, 30.2, 1.0, 0.0, 1.65, 1.0, 0.9666666666666667, 1.0, 29.0, 12.25, 16.05, 0.6666666666666666, 2.75, 1.0, 0.75, 3.75, 12.233333333333333, 5.666666666666667, 7.65, 4.166666666666667, 6.916666666666667, 1.0, 1.8833333333333333, 19.066666666666666, 1.0, 1.6666666666666667, 8.9, 0.0, 18.533333333333335, 0.0, 0.75, 14.966666666666667, 3.5, 1.0166666666666666, 2.6166666666666667, 0, 50.15, 3.1666666666666665, 3.6, 5.7, 0.85, 1.5, 1.0833333333333333, 0.8333333333333334, 3.533333333333333, 6.333333333333333, 0.26666666666666666, 8.266666666666667, 34.666666666666664, 3.1, 7.566666666666666, 3.1333333333333333, 0.9333333333333333, 4.066666666666666, 3.5, 5.95, 2.1, 28.433333333333334, 1.7166666666666666, 9.283333333333333, 5.816666666666666, 0.16666666666666666, 0.0, 3.8, 6.083333333333333, 0, 6.25, 1.25, 1.8833333333333333, 2.933333333333333, 0, 16.133333333333333, 0.0, 18.783333333333335, 0.0, 0.0, 8.466666666666667, 4.5, 0.0, 6.5, 4.45, 0, 6.4, 11.5, 8.533333333333333, 0, 3.0833333333333335, 4.7, 1.25, 4.466666666666667, 0.0, 1.8833333333333333, 20.75, 6.066666666666666, 2.3333333333333335, 3.3833333333333333, 6.5, 2.2333333333333334, 0.8333333333333334, 0, 3.0833333333333335, 63.28333333333333, 2.45, 0.6333333333333333, 13.9, 5.7, 0, 1.35, 9.5, 8.25, 2.716666666666667, 1.5, 0.5, 8.0, 0, 6.416666666666667, 3.0833333333333335, 5.25, 12.616666666666667, 0, 16.5, 2.0, 8.0, 1.25, 1.8333333333333333, 0, 108.0, 2.05, 0.5166666666666667, 3.433333333333333, 0.0, 1.4166666666666667, 0.0, 0.75, 2.3333333333333335, 4.583333333333333, 5.833333333333333, 300.0, 5.25, 0.0, 0.0, 2.1333333333333333, 1.0, 0.0, 38.68333333333333, 2.1333333333333333, 23.75, 1.1666666666666667, 10.15, 2.8833333333333333, 1.35, 2.1166666666666667, 6.466666666666667, 17.1, 9.683333333333334, 0.9, 2.2666666666666666, 3.7333333333333334, 0, 18.0, 2.466666666666667, 17.883333333333333, 0.0, 6.816666666666666, 1.0, 0.21666666666666667, 0.8833333333333333, 0.23333333333333334, 9.05, 1.6333333333333333, 0.9833333333333333, 0, 0, 1.0, 0.9166666666666666, 0.0, 2.966666666666667, 47.583333333333336, 3.6333333333333333, 0, 0.0, 0.7166666666666667, 2.8, 0.31666666666666665, 0.25, 0.05, 34.9, 2.3333333333333335, 0.5666666666666667, 14.933333333333334, 0.75, 1.55, 4.833333333333333, 6.533333333333333, 1.3333333333333333, 0, 2.5, 20.083333333333332, 0.8833333333333333, 0.75, 14.9, 0, 0.0, 0, 7.533333333333333, 0.38333333333333336, 5.983333333333333, 2.25, 0, 1.2, 19.683333333333334, 0.0, 0, 0.36666666666666664, 41.0, 2.7, 0, 11.433333333333334, 2.1666666666666665, 2.6666666666666665, 3.1, 0.95, 0.6833333333333333, 12.166666666666666, 11.0, 0.9333333333333333, 0.0, 7.333333333333333, 0, 0, 1.9333333333333333, 0.5666666666666667, 16.633333333333333, 7.666666666666667, 0.0, 0.5833333333333334, 6.55, 25.183333333333334, 0.31666666666666665, 5.416666666666667, 1.45, 1.5166666666666666, 8.7, 8.283333333333333, 5.466666666666667, 1.1833333333333333, 4.266666666666667, 8.583333333333334, 2.216666666666667, 1.8, 0.0, 47.0, 1.6333333333333333, 13.3, 6.0, 1.1333333333333333, 0, 3.4833333333333334, 101.33333333333333, 1.5833333333333333, 2.966666666666667, 3.4166666666666665, 21.716666666666665, 4.466666666666667, 1.9, 0.7666666666666667, 1.5833333333333333, 2.0, 4.15, 4.133333333333334, 3.8333333333333335, 46.2, 0.0, 2.1, 0, 55.75, 6.216666666666667, 2.933333333333333, 0.8333333333333334, 1.8166666666666667, 0.35, 0.95, 6.633333333333334, 0.25, 0.43333333333333335, 0, 0.0, 0.7, 23.6, 4.833333333333333, 1.4, 10.95, 0.0, 0.5, 2.55, 7.15, 2.8833333333333333, 0.18333333333333332, 0.8833333333333333, 4.55, 5.75, 22.816666666666666, 3.0833333333333335, 0.95, 75.53333333333333, 2.2666666666666666, 3.0833333333333335, 63.3, 21.25, 2.4166666666666665, 2.35, 0.0, 7.95, 1.9833333333333334, 0.7666666666666667, 1.0166666666666666, 4.916666666666667, 0.05, 3.8, 0.0, 4.666666666666667, 10.15, 7.666666666666667, 0.05, 0.38333333333333336, 0, 13.983333333333333, 2.75, 0, 0, 0.95, 0.0, 0.0, 6.283333333333333, 5.866666666666666, 11.816666666666666, 9.533333333333333, 15.166666666666666, 0.13333333333333333, 1.3833333333333333, 10.683333333333334, 0, 0.48333333333333334, 28.916666666666668, 15.666666666666666, 0.2833333333333333, 3.5166666666666666, 11.75, 2.283333333333333, 11.216666666666667, 1.35, 0.35, 5.7, 1.9333333333333333, 0.35, 0.55, 0.0, 0, 11.25, 0.0, 0.0, 0.5666666666666667, 29.433333333333334, 2.1666666666666665, 1.3, 2.65, 3.1333333333333333, 5.266666666666667, 0.7666666666666667, 0, 1.1666666666666667, 0.16666666666666666, 9.866666666666667, 1.9, 9.383333333333333, 10.016666666666667, 2.1, 0.0, 1.4166666666666667, 0.3, 6.083333333333333, 3.0, 1.9833333333333334, 0.26666666666666666, 5.416666666666667, 11.416666666666666, 0.0, 0.4, 1.0333333333333334, 7.25, 2.533333333333333, 0.7666666666666667, 5.933333333333334, 1.4166666666666667, 1.3166666666666667, 9.733333333333333, 0.21666666666666667, 4.533333333333333, 6.5, 0.05, 0, 2.6666666666666665, 4.016666666666667, 1.1833333333333333, 5.183333333333334, 0.0, 0.0, 0.36666666666666664, 0.9, 5.816666666666666, 42.1, 29.316666666666666, 4.833333333333333, 9.366666666666667, 0.25, 1.1666666666666667, 6.85, 0.5333333333333333, 18.766666666666666, 10.15, 3.2, 0.0, 1.7166666666666666, 0.45, 0.4, 0, 0, 0.35, 6.183333333333334, 1.2333333333333334, 0, 2.216666666666667, 1.9666666666666666, 31.766666666666666, 0.48333333333333334, 6.233333333333333, 17.183333333333334, 19.0, 9.016666666666667, 3.0166666666666666, 0, 1.5, 1.5, 18.3, 0.0, 29.35, 0.0, 3.95, 0.0, 0.6666666666666666, 0.1, 0.4666666666666667, 0.9333333333333333, 7.433333333333334, 6.983333333333333, 1.3833333333333333, 20.666666666666668, 12.733333333333333, 0.0, 2.1333333333333333, 24.4, 3.966666666666667, 2.2333333333333334, 6.25, 0.05, 3.816666666666667, 0, 5.516666666666667, 0.0, 4.316666666666666, 2.0166666666666666, 11.933333333333334, 10.133333333333333, 3.033333333333333, 2.3, 3.55, 0.11666666666666667, 1.8333333333333333, 0, 1.7833333333333334, 0, 0.0, 2.1, 1.3333333333333333, 0.1, 6.0, 2.25, 0.26666666666666666, 2.8, 0.9, 2.8333333333333335, 0.0, 25.95, 1.8166666666666667, 0.5333333333333333, 0.4666666666666667, 3.65, 0, 3.6333333333333333, 3.566666666666667, 1.0333333333333334, 0.36666666666666664, 7.85, 13.916666666666666, 3.25, 0.0, 3.466666666666667, 0.0, 17.483333333333334, 0.13333333333333333, 48.95, 0.6833333333333333, 0, 1.2833333333333334, 98.41666666666667, 22.55, 0, 6.45, 4.55, 0.6166666666666667, 8.6, 0, 3.6333333333333333, 0.3333333333333333, 17.133333333333333, 5.566666666666666, 2.4, 6.5, 3.0, 0.0, 1.7, 2.05, 0.0, 0, 33.416666666666664, 0, 46.96666666666667, 1.3666666666666667, 0.0, 8.75, 2.9, 1.5333333333333334, 4.0, 54.06666666666667, 0.2, 4.25, 0.6166666666666667, 9.466666666666667, 1.05, 0.35, 1.4166666666666667, 0.5, 1.1333333333333333, 6.266666666666667, 1.8, 12.2, 2.0, 3.1333333333333333, 13.5, 4.616666666666666, 2.65, 0.8166666666666667, 0.4666666666666667, 0.0, 1.0, 0.016666666666666666, 0.8, 3.433333333333333, 0.0, 41.85, 6.816666666666666, 2.55, 2.0833333333333335, 0.6833333333333333, 0.9833333333333333, 18.35, 0.06666666666666667, 0.95, 0.0, 1.7166666666666666, 3.066666666666667, 39.75, 0.0, 7.366666666666666, 5.716666666666667, 0.0, 1.1666666666666667, 0.95, 59.5, 0.0, 0.25, 4.05, 0.5666666666666667, 1.0, 0.8833333333333333, 5.333333333333333, 2.4833333333333334, 0.0, 7.266666666666667, 1.0, 4.133333333333334, 0.48333333333333334, 0.26666666666666666, 0.0, 1.8833333333333333, 0, 2.5, 1.7666666666666666, 6.3, 9.0, 0.0, 2.2, 0.5666666666666667, 1.3, 0.5833333333333334, 2.7, 0.9166666666666666, 0, 89.0, 0.35, 1.1, 1.0, 0.26666666666666666, 4.483333333333333, 2.25, 0.9333333333333333, 0.8166666666666667, 1.65, 22.066666666666666, 13.716666666666667, 3.2, 1.5666666666666667, 1.45, 0.21666666666666667, 5.833333333333333, 4.033333333333333, 0, 0.08333333333333333, 1.5166666666666666, 0.0, 13.183333333333334, 0.05, 5.116666666666666, 0, 2.5, 0.85, 5.2, 0.06666666666666667, 4.166666666666667]\n"
          ],
          "name": "stdout"
        }
      ]
    },
    {
      "cell_type": "code",
      "metadata": {
        "id": "nD2MoxFS1FQs",
        "colab_type": "code",
        "outputId": "4a32cdcd-e626-4a6e-b2f9-67430b543a35",
        "colab": {
          "base_uri": "https://localhost:8080/",
          "height": 384
        }
      },
      "source": [
        "bins = np.linspace(0, 48, 35)\n",
        "plt.figure(figsize=[10, 5])\n",
        "groups = plt.hist(ewt, bins)\n",
        "plt.axvline(np.median(ewt), color='r', label='Median: %0.2f hrs' % np.median(ewt))\n",
        "plt.axvline(np.mean(ewt), color='g', label='Mean: %0.2f hrs' % np.mean(ewt))\n",
        "plt.legend(loc = 'upper right')\n",
        "plt.title('Histogram of EWT for Balanced Data')\n",
        "plt.ylabel('Frequency')\n",
        "plt.xlabel('Early Warning Time [Hours]')\n",
        "print(\"Median Early Waring Time: %0.2f \" % np.median(ewt), 'hours.')\n",
        "print(\"Mean Early Waring Time: %0.2f hours.\" % np.mean(ewt))"
      ],
      "execution_count": 0,
      "outputs": [
        {
          "output_type": "stream",
          "text": [
            "Median Early Waring Time: 2.17  hours.\n",
            "Mean Early Waring Time: 7.17 hours.\n"
          ],
          "name": "stdout"
        },
        {
          "output_type": "display_data",
          "data": {
            "image/png": "[encoded data removed]",
            "text/plain": [
              "<Figure size 720x360 with 1 Axes>"
            ]
          },
          "metadata": {
            "tags": []
          }
        }
      ]
    },
    {
      "cell_type": "code",
      "metadata": {
        "id": "3Swa_9AX1InJ",
        "colab_type": "code",
        "colab": {}
      },
      "source": [
        "# We can see using upsampling as a balancing technique that both the median and \n",
        "# mean early warning prediction time increase, but not by a ton. "
      ],
      "execution_count": 0,
      "outputs": []
    }
  ]
}